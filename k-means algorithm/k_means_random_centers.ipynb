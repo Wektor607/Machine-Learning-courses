{
 "cells": [
  {
   "cell_type": "markdown",
   "metadata": {},
   "source": [
    "В файле k_means_random_centers реализована стратегия выбора случайных центров, не из заданной выборки."
   ]
  },
  {
   "cell_type": "code",
   "execution_count": 79,
   "metadata": {},
   "outputs": [],
   "source": [
    "import numpy as np\n",
    "import matplotlib.pyplot as plt\n",
    "import scipy as sc"
   ]
  },
  {
   "cell_type": "markdown",
   "metadata": {},
   "source": [
    "Покажем, что выбор случайных центров это плохая стратегия. В 1 случае(файл k_means_random_centers) мы выберем случайные центры и во 2 случае(файл k_means_specific_sample) мы выберем центры из нашей выборки. Посчитаем среднее арифметическое итераций основного цикла нашего алгоритма, запустив его по 5 раз."
   ]
  },
  {
   "cell_type": "code",
   "execution_count": 80,
   "metadata": {},
   "outputs": [
    {
     "data": {
      "text/plain": [
       "<matplotlib.collections.PathCollection at 0x2314f75b6a0>"
      ]
     },
     "execution_count": 80,
     "metadata": {},
     "output_type": "execute_result"
    },
    {
     "data": {
      "image/png": "[encoded data removed]",
      "text/plain": [
       "<Figure size 432x288 with 1 Axes>"
      ]
     },
     "metadata": {
      "needs_background": "light"
     },
     "output_type": "display_data"
    }
   ],
   "source": [
    "n = 100 #количество точек-данных\n",
    "k = 5 #количество центров (сколько в конце кластеров)\n",
    "data = np.random.randn(n, 2) # наши точки\n",
    "plt.scatter(data[:,0], data[:, 1])"
   ]
  },
  {
   "cell_type": "code",
   "execution_count": 81,
   "metadata": {},
   "outputs": [
    {
     "data": {
      "text/plain": [
       "<matplotlib.collections.PathCollection at 0x2314f7a60d0>"
      ]
     },
     "execution_count": 81,
     "metadata": {},
     "output_type": "execute_result"
    },
    {
     "data": {
      "image/png": "[encoded data removed]",
      "text/plain": [
       "<Figure size 432x288 with 1 Axes>"
      ]
     },
     "metadata": {
      "needs_background": "light"
     },
     "output_type": "display_data"
    }
   ],
   "source": [
    "c = np.random.randn(k, 2) # случайные центры\n",
    "plt.scatter(c[:,0], c[:, 1], color = 'k')"
   ]
  },
  {
   "cell_type": "code",
   "execution_count": 87,
   "metadata": {
    "scrolled": false
   },
   "outputs": [
    {
     "name": "stdout",
     "output_type": "stream",
     "text": [
      "9\n"
     ]
    },
    {
     "data": {
      "image/png": "[encoded data removed]",
      "text/plain": [
       "<Figure size 432x288 with 1 Axes>"
      ]
     },
     "metadata": {
      "needs_background": "light"
     },
     "output_type": "display_data"
    }
   ],
   "source": [
    "S = list(range(k)) # расстояние\n",
    "cc = 0\n",
    "cm_x = 0.0 # центр масс по x\n",
    "cm_y = 0.0 # центра масс по y\n",
    "cluster = np.random.randn(k, n, 2)\n",
    "cm = np.random.randn(k, 2)\n",
    "flag = 0 # чтобы на первом шаге не считать центр масс\n",
    "flag_c = 0 # для центров\n",
    "size = np.zeros(k) # размеры кластеров\n",
    "while(flag_c == 0):\n",
    "    if(flag == 1): # чтобы не войти на 1 шаге\n",
    "        for p in range(k): # движение по кластерам\n",
    "            if(size[p] == 0):\n",
    "                break\n",
    "            for l in range(int(size[p])): # двигаемся по элементам кластера\n",
    "                cm_x = cm_x + cluster[p][l][0]\n",
    "                cm_y = cm_y + cluster[p][l][1]\n",
    "            c[p][0] = cm[p][0]\n",
    "            c[p][1] = cm[p][1]\n",
    "            cm[p][0] = cm_x / size[p] # нашли новый центр масс\n",
    "            cm[p][1] = cm_y / size[p] # нашли новый центр масс\n",
    "            cm_x = 0\n",
    "            cm_y = 0\n",
    "        flag_c = 1\n",
    "        for u in range(k):\n",
    "            if((c[u][0] - cm[u][0] > 0.0000001) or (c[u][1] - cm[u][1] > 0.0000001)):\n",
    "                flag_c = 0\n",
    "                break\n",
    "        size = np.zeros(k) # так как на каждом шаге мы пересобираем кластеры, то их кол-во надо обнулять\n",
    "        for i in range(n):\n",
    "            for t in range(k):\n",
    "                S[t] = (cm[t][0] - data[i][0]) ** 2 + (cm[t][1] - data[i][1]) ** 2\n",
    "            index_cl = S.index(min(S))\n",
    "            cluster[index_cl][int(size[index_cl])][0] = data[i][0]\n",
    "            cluster[index_cl][int(size[index_cl])][1] = data[i][1]\n",
    "            size[S.index(min(S))] += 1\n",
    "    else:\n",
    "        for i in range(n):\n",
    "            for t in range(k):\n",
    "                S[t] = (c[t][0] - data[i][0]) ** 2 + (c[t][1] - data[i][1]) ** 2\n",
    "            index_cl = S.index(min(S))\n",
    "            cluster[index_cl][int(size[index_cl])][0] = data[i][0]\n",
    "            cluster[index_cl][int(size[index_cl])][1] = data[i][1]\n",
    "            size[S.index(min(S))] += 1 #увеличиваем размер кластера\n",
    "        flag = 1 \n",
    "    cc += 1\n",
    "print(cc)\n",
    "\n",
    "plt.scatter(cm[:,0], cm[:, 1], color = 'k')\n",
    "for i in range(k):\n",
    "    plt.scatter(cluster[i][:int(size[i]), 0], cluster[i][:int(size[i]), 1])\n",
    "c = np.zeros((k,2))"
   ]
  },
  {
   "cell_type": "markdown",
   "metadata": {},
   "source": [
    "Считаем среднее арифметическое итераций основного цикла нашего алгоритма, запустив его 5 раз."
   ]
  },
  {
   "cell_type": "code",
   "execution_count": 77,
   "metadata": {},
   "outputs": [
    {
     "data": {
      "text/plain": [
       "11.8"
      ]
     },
     "execution_count": 77,
     "metadata": {},
     "output_type": "execute_result"
    }
   ],
   "source": [
    "(12+8+15+15+9)/5"
   ]
  },
  {
   "cell_type": "markdown",
   "metadata": {},
   "source": [
    "По результатам, в 1 случае алгоритму в среднем нужно 12 итераций, чтобы окончательно кластеризовать данные, во 2 случае алгоритму нужно 10 итераций(показано в файле k_means_specific_sample). По итогу, если выбирать центры из заданной выборки, то алгоритм будет работь эффективнее."
   ]
  },
  {
   "cell_type": "code",
   "execution_count": null,
   "metadata": {},
   "outputs": [],
   "source": []
  }
 ],
 "metadata": {
  "kernelspec": {
   "display_name": "Python 3",
   "language": "python",
   "name": "python3"
  },
  "language_info": {
   "codemirror_mode": {
    "name": "ipython",
    "version": 3
   },
   "file_extension": ".py",
   "mimetype": "text/x-python",
   "name": "python",
   "nbconvert_exporter": "python",
   "pygments_lexer": "ipython3",
   "version": "3.8.3"
  }
 },
 "nbformat": 4,
 "nbformat_minor": 4
}
