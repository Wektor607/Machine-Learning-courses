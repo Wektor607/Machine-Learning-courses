{
  "nbformat": 4,
  "nbformat_minor": 0,
  "metadata": {
    "colab": {
      "name": "regression_task.ipynb",
      "provenance": [],
      "collapsed_sections": []
    },
    "kernelspec": {
      "name": "python3",
      "display_name": "Python 3"
    },
    "language_info": {
      "name": "python"
    }
  },
  "cells": [
    {
      "cell_type": "code",
      "metadata": {
        "colab": {
          "base_uri": "https://localhost:8080/",
          "height": 296
        },
        "id": "v4eHAg-E5nE3",
        "outputId": "f869a374-4994-46a1-daa6-b0691597988c"
      },
      "source": [
        "import torch\n",
        "import matplotlib.pyplot as plt\n",
        "import numpy\n",
        "def target_function(x):\n",
        "    return 2**x * torch.sin(2**-x)\n",
        "\n",
        "# ------Dataset preparation start--------:\n",
        "x_train =  torch.linspace(-10, 5, 100)\n",
        "y_train = target_function(x_train)\n",
        "noise = torch.randn(y_train.shape) / 20.\n",
        "y_train = y_train + noise\n",
        "x_train.unsqueeze_(1)\n",
        "y_train.unsqueeze_(1)\n",
        "\n",
        "x_validation = torch.linspace(-10, 5, 100)\n",
        "y_validation = target_function(x_validation)\n",
        "x_validation.unsqueeze_(1)\n",
        "y_validation.unsqueeze_(1)\n",
        "# ------Dataset preparation end--------:\n",
        "\n",
        "class RegressionNet(torch.nn.Module):\n",
        "    def __init__(self, n_hidden_neurons): # Инициализируем слои, которые нейросеть будет использовать. n_hidden_neurons - кол-во скрытых нейронов, которые будут храниться в каждом слое\n",
        "        super(RegressionNet, self).__init__() # Инициализируем родительский объект\n",
        "        self.fc1 = torch.nn.Linear(1, n_hidden_neurons) # Создаем первый слой. Передаем кол-во входных нейронов: 1 и кол-во выходных нейронов: n_hidden_neurons\n",
        "        self.act1 = torch.nn.Sigmoid() # Применяем функцию активации сигмоиду\n",
        "        self.fc2 = torch.nn.Linear(n_hidden_neurons, n_hidden_neurons) # Создаем второй слой. \n",
        "        self.act2 = torch.nn.Sigmoid() # Применяем функцию активации сигмоиду\n",
        "        self.fc3 = torch.nn.Linear(n_hidden_neurons, n_hidden_neurons) # Создаем третий слой\n",
        "        self.act3 = torch.nn.Sigmoid() # Применяем функцию активации сигмоиду\n",
        "        self.fc4 = torch.nn.Linear(n_hidden_neurons, 1) # Создаем четвертый слой. Нашим ответом будет один нейрон, что мы пишем во втором аргументе 1\n",
        "    \n",
        "    def forward(self, x): # функция применяющая последовательно слои в том порядке, в котором подаем.\n",
        "        x = self.fc1(x) \n",
        "        x = self.act1(x)\n",
        "        x = self.fc2(x)\n",
        "        x = self.act2(x)\n",
        "        x = self.fc3(x)\n",
        "        x = self.act3(x)\n",
        "        x = self.fc4(x)\n",
        "        return x\n",
        "\n",
        "Regr_net = RegressionNet(50)\n",
        "\n",
        "def predict(net, x, y): # Функция предсказания\n",
        "    y_pred = net.forward(x)\n",
        "    plt.plot(x.numpy(), y.numpy(), 'o', label='Groud truth')\n",
        "    plt.plot(x.numpy(), y_pred.data.numpy(), 'o', c='r', label='Prediction');\n",
        "    plt.legend(loc='upper left')\n",
        "    plt.xlabel('$x$')\n",
        "    plt.ylabel('$y$')\n",
        "\n",
        "optimizer = torch.optim.Adam(Regr_net.parameters(), lr=0.01)\n",
        "\n",
        "def loss(pred, target):\n",
        "  squares = (pred - target)**2\n",
        "  return squares.mean()\n",
        "\n",
        "for epoch_index in range(2000):\n",
        "    optimizer.zero_grad()\n",
        "\n",
        "    y_pred = Regr_net.forward(x_train) # считаем предсказание нашей нейросети\n",
        "    loss_val = loss(y_pred, y_train) # считаем функцию потерь\n",
        "\n",
        "    loss_val.backward() # вычисляем градиент\n",
        "\n",
        "    optimizer.step() # делаем шаг\n",
        "\n",
        "predict(Regr_net, x_validation, y_validation)\n",
        "\n",
        "def metric(pred, target):\n",
        "  return (pred - target).abs().mean()\n",
        "print(metric(Regr_net.forward(x_validation), y_validation).item())"
      ],
      "execution_count": 2,
      "outputs": [
        {
          "output_type": "stream",
          "text": [
            "0.02032657153904438\n"
          ],
          "name": "stdout"
        },
        {
          "output_type": "display_data",
          "data": {
            "image/png": "[encoded data removed]",
            "text/plain": [
              "<Figure size 432x288 with 1 Axes>"
            ]
          },
          "metadata": {
            "tags": [],
            "needs_background": "light"
          }
        }
      ]
    }
  ]
}