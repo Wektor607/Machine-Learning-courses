{
 "cells": [
  {
   "cell_type": "markdown",
   "metadata": {},
   "source": [
    "В файле k_means_specific_sample реализована стратегия выбора центров из нашей выборки."
   ]
  },
  {
   "cell_type": "code",
   "execution_count": 53,
   "metadata": {},
   "outputs": [],
   "source": [
    "import numpy as np\n",
    "import matplotlib.pyplot as pl\n",
    "import randomt\n",
    "import scipy as sc"
   ]
  },
  {
   "cell_type": "markdown",
   "metadata": {},
   "source": [
    "Задаем выборку из n точек"
   ]
  },
  {
   "cell_type": "code",
   "execution_count": 54,
   "metadata": {},
   "outputs": [
    {
     "data": {
      "text/plain": [
       "<matplotlib.collections.PathCollection at 0x28ce12cb220>"
      ]
     },
     "execution_count": 54,
     "metadata": {},
     "output_type": "execute_result"
    },
    {
     "data": {
      "image/png": "[encoded data removed]",
      "text/plain": [
       "<Figure size 432x288 with 1 Axes>"
      ]
     },
     "metadata": {
      "needs_background": "light"
     },
     "output_type": "display_data"
    }
   ],
   "source": [
    "k = 4\n",
    "n = 100\n",
    "data = np.random.randn(n, 2) # наши точки\n",
    "plt.scatter(data[:,0], data[:, 1])"
   ]
  },
  {
   "cell_type": "markdown",
   "metadata": {},
   "source": [
    "Для 2 случая, т.е. когда выбираем центры из заданной выборки, реализуем стратегию:\n",
    "\n",
    "1.Случайно выберем 1 центр из нашей выборки\n",
    "\n",
    "2.Находим расстояния от 1 центра до каждой точки. Точку с максимальным расстоянием объявляем 2 центром. \n",
    "\n",
    "3.Для нахожения последующих центров считаем сумму расстояний от уже известных центров до каждой точки данных и точку с максимальной суммой расстояние объявляем i-ым центром."
   ]
  },
  {
   "cell_type": "code",
   "execution_count": 86,
   "metadata": {},
   "outputs": [
    {
     "data": {
      "text/plain": [
       "<matplotlib.collections.PathCollection at 0x28ce2600100>"
      ]
     },
     "execution_count": 86,
     "metadata": {},
     "output_type": "execute_result"
    },
    {
     "data": {
      "image/png": "[encoded data removed]",
      "text/plain": [
       "<Figure size 432x288 with 1 Axes>"
      ]
     },
     "metadata": {
      "needs_background": "light"
     },
     "output_type": "display_data"
    }
   ],
   "source": [
    "c = np.zeros((k, 2))\n",
    "summа_S = [0] * n\n",
    "index = random.randint(0, n - 1) # номер точки, которая будет первым центром на 1 шаге\n",
    "c[0] = data[index]\n",
    "plt.scatter(c[0, 0], c[0, 1], color = 'r')\n",
    "for center_num in range(1, k): #center_num кол-во инициализированных центров\n",
    "    for i in range(n): \n",
    "        p = (data[i][0] - c[center_num - 1][0]) ** 2 + (data[i][1] - c[center_num - 1][1]) ** 2\n",
    "        if(p == 0): \n",
    "            summа_S[i] = 0\n",
    "        summа_S[i] += p\n",
    "    index = summа_S.index(max(summа_S)) #номер точки, до которой максимальная сумма рстояний от других центров\n",
    "    c[center_num] = data[index]# происходит инициализация центров из выборки data\n",
    "plt.scatter(c[1:, 0], c[1:, 1], color = 'k')"
   ]
  },
  {
   "cell_type": "code",
   "execution_count": 78,
   "metadata": {
    "scrolled": false
   },
   "outputs": [
    {
     "name": "stdout",
     "output_type": "stream",
     "text": [
      "11\n"
     ]
    },
    {
     "data": {
      "image/png": "[encoded data removed]",
      "text/plain": [
       "<Figure size 432x288 with 1 Axes>"
      ]
     },
     "metadata": {
      "needs_background": "light"
     },
     "output_type": "display_data"
    }
   ],
   "source": [
    "S = list(range(k)) # расстояние\n",
    "cc = 0\n",
    "cm_x = 0.0 # центр масс по x\n",
    "cm_y = 0.0 # центра масс по y\n",
    "cluster = np.random.randn(k, n, 2)\n",
    "cm = np.random.randn(k, 2)\n",
    "flag = 0 # чтобы на первом шаге не считать центр масс\n",
    "flag_c = 0 # для центров\n",
    "size = np.zeros(k) # размеры кластеров\n",
    "while(flag_c == 0):\n",
    "    if(flag == 1): # чтобы не войти на 1 шаге\n",
    "        for p in range(k): # движение по кластерам\n",
    "            if(size[p] == 0):\n",
    "                break\n",
    "            for l in range(int(size[p])): # двигаемся по элементам кластера\n",
    "                cm_x = cm_x + cluster[p][l][0]\n",
    "                cm_y = cm_y + cluster[p][l][1]\n",
    "            c[p][0] = cm[p][0]\n",
    "            c[p][1] = cm[p][1]\n",
    "            cm[p][0] = cm_x / size[p] # нашли новый центр масс\n",
    "            cm[p][1] = cm_y / size[p] # нашли новый центр масс\n",
    "            cm_x = 0\n",
    "            cm_y = 0\n",
    "        flag_c = 1\n",
    "        for u in range(k):\n",
    "            if((c[u][0] - cm[u][0] > 0.0000001) or (c[u][1] - cm[u][1] > 0.0000001)):\n",
    "                flag_c = 0\n",
    "                break\n",
    "        size = np.zeros(k) # так как на каждом шаге мы пересобираем кластеры, то их кол-во надо обнулять\n",
    "        for i in range(n):\n",
    "            for t in range(k):\n",
    "                S[t] = (cm[t][0] - data[i][0]) ** 2 + (cm[t][1] - data[i][1]) ** 2\n",
    "            index_cl = S.index(min(S))\n",
    "            cluster[index_cl][int(size[index_cl])][0] = data[i][0]\n",
    "            cluster[index_cl][int(size[index_cl])][1] = data[i][1]\n",
    "            size[S.index(min(S))] += 1\n",
    "    else:\n",
    "        for i in range(n):\n",
    "            for t in range(k):\n",
    "                S[t] = (c[t][0] - data[i][0]) ** 2 + (c[t][1] - data[i][1]) ** 2\n",
    "            index_cl = S.index(min(S))\n",
    "            cluster[index_cl][int(size[index_cl])][0] = data[i][0]\n",
    "            cluster[index_cl][int(size[index_cl])][1] = data[i][1]\n",
    "            size[S.index(min(S))] += 1 #увеличиваем размер кластера\n",
    "        flag = 1\n",
    "    cc += 1\n",
    "print(cc)\n",
    "plt.scatter(cm[:,0], cm[:, 1], color = 'k')\n",
    "for i in range(k):\n",
    "    plt.scatter(cluster[i][:int(size[i]), 0], cluster[i][:int(size[i]), 1])\n",
    "c = np.zeros((k,2))"
   ]
  },
  {
   "cell_type": "markdown",
   "metadata": {},
   "source": [
    "Считаем среднее арифметическое итераций основного цикла нашего алгоритма, запустив его 5 раз."
   ]
  },
  {
   "cell_type": "code",
   "execution_count": 79,
   "metadata": {},
   "outputs": [
    {
     "name": "stdout",
     "output_type": "stream",
     "text": [
      "9.8\n"
     ]
    }
   ],
   "source": [
    "print((8+13+8+9+11)/5)"
   ]
  },
  {
   "cell_type": "code",
   "execution_count": null,
   "metadata": {},
   "outputs": [],
   "source": []
  }
 ],
 "metadata": {
  "kernelspec": {
   "display_name": "Python 3",
   "language": "python",
   "name": "python3"
  },
  "language_info": {
   "codemirror_mode": {
    "name": "ipython",
    "version": 3
   },
   "file_extension": ".py",
   "mimetype": "text/x-python",
   "name": "python",
   "nbconvert_exporter": "python",
   "pygments_lexer": "ipython3",
   "version": "3.8.3"
  }
 },
 "nbformat": 4,
 "nbformat_minor": 4
}
